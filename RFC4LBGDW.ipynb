{
 "cells": [
  {
   "cell_type": "code",
   "execution_count": 37,
   "id": "e88dfed1-54d0-44c3-a7e0-30022b3f0436",
   "metadata": {},
   "outputs": [
    {
     "name": "stdout",
     "output_type": "stream",
     "text": [
      "# The input file contains a dictionary with two keys, ['transmission', 'dva'].\n",
      "# 'transmission' brings another dict object containing the main transmission data for five redshifts, z=6, 6.5, 7, 8, & 10. \n",
      "# The data for each redshift can be accessed using another key, ['6h', '7', '8', '10', '6'], where 6h means 6.5.\n",
      "# \n",
      "(100,)\n",
      "(203796, 100)\n"
     ]
    }
   ],
   "source": [
    "import numpy as np\n",
    "\n",
    "datain = np.load('RFC4LBGDW_input_data.npy',allow_pickle=True).item()\n",
    "print(f'# The input file contains a dictionary with two keys, {list(datain.keys())}.')\n",
    "dva = datain['dva']; Tr = datain['transmission']\n",
    "print(f'# \\'transmission\\' brings another dict object containing the main transmission data for five redshifts, z=6, 6.5, 7, 8, & 10. ')\n",
    "print(f'# The data for each redshift can be accessed using another key, {list(Tr.keys())}, where 6h means 6.5.')\n",
    "print(f'# ')\n",
    "\n",
    "print(dva.shape)\n",
    "print(Tr['6'].shape)\n"
   ]
  },
  {
   "cell_type": "code",
   "execution_count": null,
   "id": "f9f60692-61ac-42b0-b8ba-f08cabbfbe1d",
   "metadata": {},
   "outputs": [],
   "source": []
  }
 ],
 "metadata": {
  "kernelspec": {
   "display_name": "Python 3 (ipykernel)",
   "language": "python",
   "name": "python3"
  },
  "language_info": {
   "codemirror_mode": {
    "name": "ipython",
    "version": 3
   },
   "file_extension": ".py",
   "mimetype": "text/x-python",
   "name": "python",
   "nbconvert_exporter": "python",
   "pygments_lexer": "ipython3",
   "version": "3.11.9"
  }
 },
 "nbformat": 4,
 "nbformat_minor": 5
}
